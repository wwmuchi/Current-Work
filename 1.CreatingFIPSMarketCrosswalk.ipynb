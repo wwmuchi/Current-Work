{
 "cells": [
  {
   "cell_type": "markdown",
   "metadata": {},
   "source": [
    "First, I create a crosswalk from radio station markets to U.S. counties."
   ]
  },
  {
   "cell_type": "code",
   "execution_count": 1,
   "metadata": {},
   "outputs": [],
   "source": [
    "import pandas as pd\n",
    "\n",
    "# Load HipHopStations/station_genre.dta\n",
    "file_path = 'Imports/Station Data/Genre_Data/station_genre.dta'\n",
    "hip_hop_df = pd.read_stata(file_path)\n",
    "\n",
    "# Load Imports/Crosswalks/county_fips_master.csv\n",
    "file_path = 'Imports/Crosswalks/county_fips_master.csv'\n",
    "county_fips_df = pd.read_csv(file_path)\n",
    "\n",
    "# Load Imports/Crosswalks/countytomarket.xlsx\n",
    "file_path = 'Imports/Crosswalks/countytomarket.xlsx'\n",
    "county_market_df = pd.read_excel(file_path)\n",
    "\n",
    "# Rename \"market\" to \"Market\"\n",
    "county_market_df.rename(columns={\"market\": \"Market\"}, inplace=True)\n",
    "\n",
    "# Fill in missing values in county_market_df[\"Market\"]\n",
    "county_market_df[\"Market\"] = county_market_df[\"Market\"].ffill()\n",
    "\n",
    "# Remove rows where county_market_df[\"Market\"] = \"Puerto Rico\"\n",
    "county_market_df = county_market_df[county_market_df[\"Market\"] != \"Puerto Rico\"]\n",
    "\n",
    "# Remove county_fips_df[\"county\"]\n",
    "county_fips_df.drop(columns=[\"county\"], inplace=True)\n",
    "\n",
    "# Keep first five columns of county_fips_df\n",
    "county_fips_df = county_fips_df.iloc[:, :5]\n",
    "\n",
    "# Convert county_fips_df[\"FIPS\"] to integer\n",
    "county_fips_df[\"FIPS\"] = county_fips_df[\"FIPS\"].astype(int)\n",
    "\n",
    "# Convert county_fips_df[\"county_name\"] and county_market_df[\"county\"] to title case\n",
    "county_market_df[\"county\"] = county_market_df[\"county\"].str.title()\n",
    "county_fips_df[\"county_name\"] = county_fips_df[\"county_name\"].str.title()\n",
    "\n",
    "# Rename \"District of Columbia\" to \"Washington\" in county_fips_df[\"county_name\"]\n",
    "county_fips_df[\"county_name\"] = county_fips_df[\"county_name\"].str.replace(\"District Of Columbia\", \"Washington\")\n",
    "\n",
    "# Remove spaces at the end of strings in county_market_df[\"county\"]\n",
    "county_market_df[\"county\"] = county_market_df[\"county\"].str.rstrip()\n",
    "\n",
    "# Remove \"County\" and \"City\" from every entry in county_fips_df[\"county_name\"]\n",
    "county_fips_df[\"county_name\"] = county_fips_df[\"county_name\"].str.replace(\" County\", \"\")\n",
    "county_fips_df[\"county_name\"] = county_fips_df[\"county_name\"].str.replace(\" Parish\", \"\")\n",
    "county_fips_df[\"county_name\"] = county_fips_df[\"county_name\"].str.replace(\" Municipality\", \"\")\n",
    "\n",
    "\n",
    "# Add county_fips_df to county_market_df along county_market_df[\"county\",\"homestate\"] = county_fips_df[\"county_name\", \"state_name\"]\n",
    "mcf_df = county_market_df.merge(county_fips_df, left_on=[\"county\", \"homestate\"], right_on=[\"county_name\", \"state_abbr\"], how=\"left\")\n",
    "\n",
    "# Remove \"county_name\", \"state_abbr\", \"long_name\" and \"state_name\" from mcf_df\n",
    "mcf_df.drop(columns=[\"county_name\", \"state_abbr\", \"long_name\", \"state_name\"], inplace=True)\n",
    "\n",
    "# Assert that there are no missing values in mcf_df\n",
    "assert mcf_df.isnull().sum().sum() == 0\n",
    "\n",
    "\n",
    "\n",
    "\n"
   ]
  },
  {
   "cell_type": "markdown",
   "metadata": {},
   "source": [
    "Now, I add ORI codes to the cross walk."
   ]
  },
  {
   "cell_type": "code",
   "execution_count": 2,
   "metadata": {},
   "outputs": [],
   "source": [
    "import pandas as pd\n",
    "\n",
    "# Load Imports/Crosswalks/OriCode/OriCode.tsv\n",
    "ori_code_file_path = 'Imports/Crosswalks/OriCode/OriCode.tsv'\n",
    "ori_code_full_df = pd.read_csv(ori_code_file_path, sep='\\t')\n",
    "\n",
    "\n",
    "# Only keep rows where REPORT_FLAG = 1\n",
    "# ori_code_full_df = ori_code_full_df[ori_code_full_df[\"REPORT_FLAG\"] == 1]\n",
    "\n",
    "# Keep only the columns \"ORI9\", \"ORI7\", \"NAME\", \"FIPS\"\n",
    "ori_code_df = ori_code_full_df[['ORI9', 'ORI7', 'NAME', 'FIPS']]\n",
    "\n",
    "# Identify entries in mcf_df[\"FIPS\"] that are not in ori_code_df[\"FIPS\"]\n",
    "missing_fips = mcf_df[~mcf_df[\"FIPS\"].isin(ori_code_df[\"FIPS\"])]\n",
    "\n",
    "# Assert missing_fips is empty\n",
    "assert missing_fips.empty, \"There are FIPS values in mcf_df that are not in ori_code_df.\"\n",
    "\n",
    "# Merge ori_code_df with mcf_df on \"FIPS\"\n",
    "df = mcf_df.merge(ori_code_df, on=\"FIPS\", how=\"left\")\n",
    "\n",
    "# Assert there are rows where df[\"ORI9\"] is missing\n",
    "assert df[\"ORI9\"].isnull().sum() == 0, \"There are missing values in df['ORI9'].\"\n",
    "\n",
    "# Save df to Exports/Crosswalks/ORI_FIPS_Market_crosswalk.csv\n",
    "df.to_csv('Exports/Crosswalks/1.ORI_FIPS_Market_crosswalk.csv', index=False)\n"
   ]
  }
 ],
 "metadata": {
  "kernelspec": {
   "display_name": "rpy2_env",
   "language": "python",
   "name": "python3"
  },
  "language_info": {
   "codemirror_mode": {
    "name": "ipython",
    "version": 3
   },
   "file_extension": ".py",
   "mimetype": "text/x-python",
   "name": "python",
   "nbconvert_exporter": "python",
   "pygments_lexer": "ipython3",
   "version": "3.12.7"
  }
 },
 "nbformat": 4,
 "nbformat_minor": 2
}
